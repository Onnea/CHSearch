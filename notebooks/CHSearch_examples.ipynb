{
 "cells": [
  {
   "cell_type": "code",
   "execution_count": 8,
   "metadata": {},
   "outputs": [],
   "source": [
    "#r @\"..\\CHSearch\\bin\\Debug\\Newtonsoft.Json.dll\"\n",
    "#r @\"..\\CHSearch\\bin\\Debug\\CHSearch.exe\"\n",
    "#r @\"..\\CHSearch\\bin\\Debug\\PocoGeneration.exe\"\n",
    "#r @\"..\\CHSearch\\bin\\Debug\\LiteDB.dll\"\n",
    "#r @\"C:\\Program Files (x86)\\Reference Assemblies\\Microsoft\\Framework\\.NETFramework\\v4.6.1\\System.Net.Http.dll\""
   ]
  },
  {
   "cell_type": "code",
   "execution_count": 9,
   "metadata": {},
   "outputs": [],
   "source": [
    "open System\n",
    "open Onnea\n",
    "open Newtonsoft.Json\n",
    "open Onnea.Domain\n",
    "open System.IO"
   ]
  },
  {
   "cell_type": "code",
   "execution_count": 10,
   "metadata": {},
   "outputs": [],
   "source": [
    "System.IO.Directory.SetCurrentDirectory(@\"C:\\Projects\\CHSearch\\CHSearch\")"
   ]
  },
  {
   "cell_type": "code",
   "execution_count": 11,
   "metadata": {},
   "outputs": [],
   "source": [
    "let db = Commands.GetDatabase( @\"C:\\temp\\CHSearch\\db\\temp.db\" )"
   ]
  },
  {
   "cell_type": "code",
   "execution_count": 12,
   "metadata": {},
   "outputs": [
    {
     "data": {
      "text/plain": [
       "Fetching company info from 314330 to 314344\r\n",
       "...............\n",
       "Waiting for the fetcher to finish...\r\n",
       "Done fetching company info from 314330 to 314344\r\n"
      ]
     },
     "metadata": {},
     "output_type": "display_data"
    }
   ],
   "source": [
    "let adf = Commands.Fetch( db, from = 314330, count = 15 );\n",
    "let fetched = adf |> Seq.toList //|> Seq.length\n",
    "let fromWeb = fetched |> Seq.where (fun r -> r.WasFetchedFromWeb) |> Seq.toList"
   ]
  },
  {
   "cell_type": "code",
   "execution_count": 16,
   "metadata": {},
   "outputs": [
    {
     "data": {
      "text/plain": [
       "seq\n",
       "  [\"POST & TIMES SERIES LIMITED\"; \"SHS INTERNATIONAL LTD\";\n",
       "   \"NEWSQUEST (LANCS FREE) LIMITED\"; \"PERSHORE CLUB;LIMITED(THE)\"; ...]"
      ]
     },
     "execution_count": 16,
     "metadata": {},
     "output_type": "execute_result"
    }
   ],
   "source": [
    "let allCompanies = Commands.GetCompanies( db, fun _ -> true ) |> Seq.filter (fun c -> not c.DoesNotExist) |> List.ofSeq\n",
    "allCompanies |> Seq.map (fun c -> c.CompanyName)  |> Seq.take 10"
   ]
  },
  {
   "cell_type": "code",
   "execution_count": 17,
   "metadata": {},
   "outputs": [],
   "source": [
    "let companiesB = Commands.GetCompaniesWhere( db, \"CompanyName\",\n",
    "                  fun c -> c.AsString <> null && c.AsString.StartsWith( \"B\" ) )\n",
    "let companiesC = Commands.GetCompaniesWhere( db, \"_id\", // aka \"CompanyInfoId\"\n",
    "                  fun c -> c.AsInt32 = 314128 ) |> List.ofSeq\n",
    "let activeB = companiesB \n",
    "              //|> Seq.filter (fun c -> c.CompanyStatus = \"active\") \n",
    "              |> Seq.toList"
   ]
  },
  {
   "cell_type": "code",
   "execution_count": 18,
   "metadata": {},
   "outputs": [
    {
     "data": {
      "text/plain": [
       "74"
      ]
     },
     "execution_count": 18,
     "metadata": {},
     "output_type": "execute_result"
    }
   ],
   "source": [
    "let fh = \n",
    "  allCompanies \n",
    "  |> Seq.map (fun c -> c.CompanyName, Commands.GetFilingHistory( db, c, DateTime.Parse( \"2018-05-22\" )))\n",
    "fh |> Seq.length"
   ]
  },
  {
   "cell_type": "code",
   "execution_count": 20,
   "metadata": {},
   "outputs": [
    {
     "data": {
      "text/plain": [
       "C:\\temp\\CHSearch\\documents\\text\\https___document-api.companieshouse.gov.uk_document_2xEUoeA1ewueRjAydrwdVOnyXuP-EEqnmSj-3mwJNwE.txt\r\n"
      ]
     },
     "metadata": {},
     "output_type": "display_data"
    }
   ],
   "source": [
    "let fhsWithFullAccounts \n",
    "  = fh |> Seq.where (fun h -> (h |> snd).Items \n",
    "                             |> Seq.exists (fun i -> i.Description.ToLower().Contains(\"full\")))\n",
    "       |> List.ofSeq\n",
    "\n",
    "fhsWithFullAccounts \n",
    "   |> Seq.last\n",
    "   |> fun fhi -> (fhi |> snd).Items |> Seq.filter (fun i -> i.Links <> null) |> Seq.last \n",
    "   |> fun i -> Commands.GetDocument(i)\n",
    "   |> fun doco -> printfn \"%s\" doco.TextFile"
   ]
  },
  {
   "cell_type": "code",
   "execution_count": 22,
   "metadata": {},
   "outputs": [
    {
     "data": {
      "text/plain": [
       "[\"DISSOLVED\"; \"Inaorf‘rdanoewilh BLUEPRINT\"; \"lnaooorda oewith\"; \"Section 94\";\n",
       " \"In accordance with\"; \"In accordance With\"; \"Section 89(3) Form 4.70\";\n",
       " \"CHFP028\"]"
      ]
     },
     "execution_count": 22,
     "metadata": {},
     "output_type": "execute_result"
    }
   ],
   "source": [
    "let docos = \n",
    "    fhsWithFullAccounts \n",
    "    |> Seq.map (fun fhi -> (fhi |> fst), \n",
    "                           (fhi |> snd).Items |> Seq.map (fun i -> Commands.GetDocument(i) ) )\n",
    "    |> List.ofSeq\n",
    "\n",
    "let lines = docos.Item 5 |> snd |> Seq.map( fun fhd -> fhd.TextFile |> File.ReadAllLines )\n",
    "\n",
    "lines |> Seq.map (Seq.head) |> Seq.take 8 |> List.ofSeq"
   ]
  },
  {
   "cell_type": "code",
   "execution_count": null,
   "metadata": {},
   "outputs": [],
   "source": []
  }
 ],
 "metadata": {
  "kernelspec": {
   "display_name": "F#",
   "language": "fsharp",
   "name": "ifsharp"
  },
  "language": "fsharp",
  "language_info": {
   "codemirror_mode": "",
   "file_extension": ".fs",
   "mimetype": "text/x-fsharp",
   "name": "fsharp",
   "nbconvert_exporter": "",
   "pygments_lexer": "",
   "version": "4.3.1.0"
  }
 },
 "nbformat": 4,
 "nbformat_minor": 2
}
