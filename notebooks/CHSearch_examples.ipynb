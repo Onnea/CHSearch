{
 "cells": [
  {
   "cell_type": "code",
   "execution_count": 2,
   "metadata": {},
   "outputs": [],
   "source": [
    "#r @\"..\\CHSearch\\bin\\Debug\\Newtonsoft.Json.dll\"\n",
    "#r @\"..\\CHSearch\\bin\\Debug\\CHSearch.exe\"\n",
    "#r @\"..\\CHSearch\\bin\\Debug\\PocoGeneration.exe\"\n",
    "#r @\"..\\CHSearch\\bin\\Debug\\LiteDB.dll\"\n",
    "#r @\"C:\\Program Files (x86)\\Reference Assemblies\\Microsoft\\Framework\\.NETFramework\\v4.6.1\\System.Net.Http.dll\""
   ]
  },
  {
   "cell_type": "code",
   "execution_count": 3,
   "metadata": {},
   "outputs": [],
   "source": [
    "open System\n",
    "open Onnea\n",
    "open Newtonsoft.Json\n",
    "open Onnea.Domain\n",
    "open System.IO"
   ]
  },
  {
   "cell_type": "code",
   "execution_count": 4,
   "metadata": {},
   "outputs": [],
   "source": [
    "System.IO.Directory.SetCurrentDirectory(@\"C:\\Projects\\CHSearch\\CHSearch\")"
   ]
  },
  {
   "cell_type": "code",
   "execution_count": 5,
   "metadata": {},
   "outputs": [],
   "source": [
    "let db = Commands.GetDatabase( @\"C:\\temp\\CHSearch\\db\\temp.db\" )"
   ]
  },
  {
   "cell_type": "code",
   "execution_count": 6,
   "metadata": {},
   "outputs": [
    {
     "data": {
      "text/plain": [
       "seq [150; 0]"
      ]
     },
     "execution_count": 6,
     "metadata": {},
     "output_type": "execute_result"
    },
    {
     "data": {
      "text/plain": [
       "Fetching company info from 314330 to 314479\r\n",
       "\n",
       "Waiting for the fetcher to finish...\r\n",
       "Done fetching company info from 314330 to 314479\r\n"
      ]
     },
     "metadata": {},
     "output_type": "display_data"
    }
   ],
   "source": [
    "let fetchedCompanyInfos = Commands.FetchCompanyInfos( db, from = 314330, count = 150 );\n",
    "let fetched = fetchedCompanyInfos |> Seq.toList //|> Seq.length\n",
    "let fromWeb = fetched |> Seq.where (fun r -> r.WasFetchedFromWeb) |> Seq.toList\n",
    "[| fetched; fromWeb |] |> Seq.map Seq.length "
   ]
  },
  {
   "cell_type": "code",
   "execution_count": 7,
   "metadata": {},
   "outputs": [
    {
     "data": {
      "text/plain": [
       "[CompanyInfo[00314128, BENN & SONS (HALIFAX) LIMITED]]"
      ]
     },
     "execution_count": 7,
     "metadata": {},
     "output_type": "execute_result"
    }
   ],
   "source": [
    "let companiesByLetter = Commands.GetCompaniesWhere( db, \"CompanyName\",\n",
    "                              fun c -> c.AsString <> null && c.AsString.StartsWith( \"D\" ) )\n",
    "let company314128 = Commands.GetCompaniesWhere( db, \"_id\", // aka \"CompanyInfoId\"\n",
    "                     fun c -> c.AsInt32 = 314128 ) |> List.ofSeq\n",
    "let activeByLetter = companiesByLetter |> Seq.toList |> Seq.filter (fun c -> c.CompanyStatus = \"active\") |> Seq.toList\n",
    "activeByLetter \n",
    "company314128"
   ]
  },
  {
   "cell_type": "code",
   "execution_count": 8,
   "metadata": {},
   "outputs": [
    {
     "data": {
      "text/plain": [
       "seq\n",
       "  [\"POST & TIMES SERIES LIMITED\"; \"SHS INTERNATIONAL LTD\";\n",
       "   \"NEWSQUEST (LANCS FREE) LIMITED\"; \"PERSHORE CLUB;LIMITED(THE)\"; ...]"
      ]
     },
     "execution_count": 8,
     "metadata": {},
     "output_type": "execute_result"
    }
   ],
   "source": [
    "let allCompanies = Commands.GetCompanies( db, fun _ -> true ) |> Seq.filter (fun c -> not c.DoesNotExist) |> List.ofSeq\n",
    "allCompanies |> Seq.map (fun c -> c.CompanyName)  |> Seq.take 10"
   ]
  },
  {
   "cell_type": "code",
   "execution_count": 9,
   "metadata": {},
   "outputs": [
    {
     "data": {
      "text/plain": [
       "seq\n",
       "  [(\"POST & TIMES SERIES LIMITED\", FilingHistory[112005, as of: 2018-05-29]);\n",
       "   (\"SHS INTERNATIONAL LTD\", FilingHistory[112075, as of: 2018-05-29]);\n",
       "   (\"NEWSQUEST (LANCS FREE) LIMITED\", FilingHistory[112092, as of: 2018-05-29]);\n",
       "   (\"PERSHORE CLUB;LIMITED(THE)\", FilingHistory[112134, as of: 2018-05-29]); ...]"
      ]
     },
     "execution_count": 9,
     "metadata": {},
     "output_type": "execute_result"
    }
   ],
   "source": [
    "let companiesAndTheirFilingHistories = \n",
    "  allCompanies \n",
    "  |> Seq.map (fun c -> c.CompanyName, Commands.GetFilingHistory( db, c, DateTime.Parse( \"2018-05-22\" )))\n",
    "companiesAndTheirFilingHistories"
   ]
  },
  {
   "cell_type": "code",
   "execution_count": 10,
   "metadata": {},
   "outputs": [
    {
     "data": {
      "text/plain": [
       "seq\n",
       "  [(\"POST & TIMES SERIES LIMITED\", FilingHistory[112005, as of: 2018-05-29]);\n",
       "   (\"SHS INTERNATIONAL LTD\", FilingHistory[112075, as of: 2018-05-29]);\n",
       "   (\"NEWSQUEST (LANCS FREE) LIMITED\", FilingHistory[112092, as of: 2018-05-29]);\n",
       "   (\"PERSHORE CLUB;LIMITED(THE)\", FilingHistory[112134, as of: 2018-05-29]); ...]"
      ]
     },
     "execution_count": 10,
     "metadata": {},
     "output_type": "execute_result"
    }
   ],
   "source": [
    "let filingHistoriesOfCompsWithFullAccounts = \n",
    "    companiesAndTheirFilingHistories \n",
    "    |> Seq.where (fun h -> (h |> snd).Items |> Seq.exists (fun i -> i.Description.ToLower().Contains(\"full\")))\n",
    "    |> List.ofSeq\n",
    "filingHistoriesOfCompsWithFullAccounts |> Seq.take 10"
   ]
  },
  {
   "cell_type": "code",
   "execution_count": 17,
   "metadata": {},
   "outputs": [],
   "source": [
    "let firstCompanyDocuments = \n",
    "    filingHistoriesOfCompsWithFullAccounts |> Seq.head\n",
    "    |> fun nameAndFilingHistory -> (nameAndFilingHistory |> snd).Items |> Seq.filter (fun i -> i.Links <> null) "
   ]
  },
  {
   "cell_type": "code",
   "execution_count": 21,
   "metadata": {},
   "outputs": [
    {
     "data": {
      "text/plain": [
       "[\"gazette\"; \"officers\"; \"dissolution\"; \"annual-return\"; \"accounts\"]"
      ]
     },
     "execution_count": 21,
     "metadata": {},
     "output_type": "execute_result"
    }
   ],
   "source": [
    "firstCompanyDocuments \n",
    "|> Seq.map (fun i -> i.Category) |> Seq.toList |> List.distinct"
   ]
  },
  {
   "cell_type": "code",
   "execution_count": 29,
   "metadata": {},
   "outputs": [
    {
     "data": {
      "text/plain": [
       "accounts: C:\\temp\\CHSearch\\documents\\text\\https___document-api.companieshouse.gov.uk_document_0zIpHaa_x1uJzd-kMGXQI6zQEoAFIncpA0bYetk7Km8.txt\r\n"
      ]
     },
     "metadata": {},
     "output_type": "display_data"
    }
   ],
   "source": [
    "let exampleAccounts = \n",
    " firstCompanyDocuments\n",
    " |> Seq.filter (fun i -> i.Category = \"accounts\")\n",
    " |> Seq.map (fun i -> i.Category, Commands.GetDocument(i))\n",
    " |> Seq.head\n",
    " |> fun catAndDoc -> printfn \"%s: %s\"(catAndDoc |> fst) (catAndDoc |> snd).TextFile; (catAndDoc |> snd).TextFile"
   ]
  },
  {
   "cell_type": "code",
   "execution_count": 36,
   "metadata": {},
   "outputs": [
    {
     "data": {
      "text/plain": [
       "[\"Advertismg revenues £ 874,000 1,] 16,000\";\n",
       " \"Circulation revenues £ 168,000 245,000\"; \"Other revenues £ 3 1,000 205,000\";\n",
       " \"Total revenues £ 1,073,000 1.567.000\";\n",
       " \"stated aﬁer the deduction of trade discounts Revenue is recognised on the publication of advertismg or on the\";\n",
       " \"sale of newspapers Other revenue 15 recognised as the goods or servtces are provtded Turnover con5ists\"]"
      ]
     },
     "execution_count": 36,
     "metadata": {},
     "output_type": "execute_result"
    }
   ],
   "source": [
    "let turnoverLines = \n",
    " exampleAccounts |> File.ReadAllLines\n",
    " |> Seq.filter (fun (line:string) -> line.ToLower().Contains(\"revenue\") ) |> List.ofSeq\n",
    "turnoverLines"
   ]
  },
  {
   "cell_type": "code",
   "execution_count": null,
   "metadata": {},
   "outputs": [],
   "source": []
  }
 ],
 "metadata": {
  "kernelspec": {
   "display_name": "F#",
   "language": "fsharp",
   "name": "ifsharp"
  },
  "language": "fsharp",
  "language_info": {
   "codemirror_mode": "",
   "file_extension": ".fs",
   "mimetype": "text/x-fsharp",
   "name": "fsharp",
   "nbconvert_exporter": "",
   "pygments_lexer": "",
   "version": "4.3.1.0"
  }
 },
 "nbformat": 4,
 "nbformat_minor": 2
}
